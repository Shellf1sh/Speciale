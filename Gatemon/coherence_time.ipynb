{
 "cells": [
  {
   "cell_type": "code",
   "execution_count": 1,
   "metadata": {},
   "outputs": [],
   "source": [
    "import numpy as np\n",
    "import matplotlib.pyplot as plt\n",
    "import scipy as sc\n",
    "\n",
    "import Qubits"
   ]
  },
  {
   "cell_type": "code",
   "execution_count": 6,
   "metadata": {},
   "outputs": [
    {
     "name": "stdout",
     "output_type": "stream",
     "text": [
      "165.88389198653636\n",
      "165883891.98653635\n"
     ]
    }
   ],
   "source": [
    "transmonC = Qubits.transmon_charge(20, 0.24, 10, 0)#Values given in Ghz*hbar\n",
    "\n",
    "transmonC.solve()\n",
    "\n",
    "GammaC = transmonC.T_1_noise()\n",
    "\n",
    "print(1/(GammaC))\n",
    "print(1/(GammaC)*1e6)"
   ]
  },
  {
   "cell_type": "code",
   "execution_count": 7,
   "metadata": {},
   "outputs": [
    {
     "name": "stdout",
     "output_type": "stream",
     "text": [
      "1.5743929731418218e+27\n",
      "1.5743929731418218e+33\n"
     ]
    }
   ],
   "source": [
    "transmonF = Qubits.transmon_flux(200, 0.24, 10, 0)#Values given in Ghz*hbar\n",
    "\n",
    "transmonF.solve()\n",
    "\n",
    "GammaF = transmonF.T_1_noise()\n",
    "\n",
    "print(1/(GammaF))\n",
    "print(1/(GammaF)*1e6)"
   ]
  },
  {
   "cell_type": "code",
   "execution_count": 8,
   "metadata": {},
   "outputs": [
    {
     "name": "stdout",
     "output_type": "stream",
     "text": [
      "[15.07078216 17.5747128 ]\n",
      "[66353.55679461 56899.93408425]\n",
      "30632.0979709992\n"
     ]
    }
   ],
   "source": [
    "gamma_arr = transmonC.T_1_gamma()\n",
    "print(gamma_arr)\n",
    "\n",
    "print(1/gamma_arr*1e6)\n",
    "\n",
    "\n",
    "print(1/np.sum(gamma_arr)*1e6)"
   ]
  },
  {
   "cell_type": "code",
   "execution_count": 9,
   "metadata": {},
   "outputs": [
    {
     "name": "stdout",
     "output_type": "stream",
     "text": [
      "[15.05742487 17.55263253]\n",
      "[66412.41837502 56971.511155  ]\n",
      "30665.386073334423\n"
     ]
    }
   ],
   "source": [
    "gamma_arr_flux = transmonF.T_1_gamma()\n",
    "print(gamma_arr_flux)\n",
    "\n",
    "print(1/gamma_arr_flux*1e6)\n",
    "print(1/np.sum(gamma_arr_flux)*1e6)"
   ]
  },
  {
   "cell_type": "code",
   "execution_count": null,
   "metadata": {},
   "outputs": [],
   "source": []
  }
 ],
 "metadata": {
  "kernelspec": {
   "display_name": "Python 3",
   "language": "python",
   "name": "python3"
  },
  "language_info": {
   "codemirror_mode": {
    "name": "ipython",
    "version": 3
   },
   "file_extension": ".py",
   "mimetype": "text/x-python",
   "name": "python",
   "nbconvert_exporter": "python",
   "pygments_lexer": "ipython3",
   "version": "3.11.0"
  },
  "orig_nbformat": 4
 },
 "nbformat": 4,
 "nbformat_minor": 2
}
