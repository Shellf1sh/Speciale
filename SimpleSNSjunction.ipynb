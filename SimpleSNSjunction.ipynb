{
 "cells": [
  {
   "cell_type": "code",
   "execution_count": 17,
   "metadata": {},
   "outputs": [],
   "source": [
    "import numpy as np\n",
    "import scipy as sc\n",
    "import matplotlib.pyplot as plt\n",
    "\n",
    "plt.rcParams['font.size'] = 18\n",
    "plt.rcParams['axes.grid'] = True\n",
    "plt.rcParams['font.family'] = 'serif'\n",
    "plt.rcParams['figure.figsize'] = [8,6]"
   ]
  },
  {
   "cell_type": "code",
   "execution_count": 18,
   "metadata": {},
   "outputs": [],
   "source": [
    "#First we define as few variables\n",
    "N = 200 #resolution\n",
    "delta = 2*np.pi/N #Spacing between points\n",
    "\n",
    "def normalize(wavefunction):\n",
    "    normalized_wavefunction = 1/np.sqrt(delta * (wavefunction.T)@(np.conj(wavefunction))) * wavefunction\n",
    "    #normalized_wavefunction = 1/np.sqrt((wavefunction.T)@(np.conj(wavefunction))) * wavefunction\n",
    "    return normalized_wavefunction"
   ]
  },
  {
   "cell_type": "code",
   "execution_count": 19,
   "metadata": {},
   "outputs": [],
   "source": [
    "#Defining the phi values, this is essentially our potential\n",
    "phi = np.linspace(-np.pi, np.pi, N)\n",
    "cosMatrix = np.diag(np.cos(phi))\n",
    "\n",
    "diagArr = np.ones(N)\n",
    "offDiagArr = np.ones(N-1)\n",
    "\n",
    "q2Matrix = 1/delta**2 * (2*np.diag(diagArr) - np.diag(offDiagArr, k = 1) - np.diag(offDiagArr, k = -1))\n",
    "q2Matrix[1][N-1], q2Matrix[N-1][1] = -1/delta**2, -1/delta**2  #Periodic boundary conditions\n",
    "\n",
    "def hamiltonian(E_C, E_J, phi_e, T):\n",
    "    E_kin = 4*E_C*q2Matrix\n",
    "    E_pot = -E_J*np.sqrt(1-T*np.sin(phi_e/2)**2)*cosMatrix\n",
    "    return E_kin + E_pot, E_J*np.cos(phi_e)"
   ]
  },
  {
   "cell_type": "code",
   "execution_count": 24,
   "metadata": {},
   "outputs": [
    {
     "ename": "AttributeError",
     "evalue": "'tuple' object has no attribute 'dtype'",
     "output_type": "error",
     "traceback": [
      "\u001b[1;31m---------------------------------------------------------------------------\u001b[0m",
      "\u001b[1;31mAttributeError\u001b[0m                            Traceback (most recent call last)",
      "Cell \u001b[1;32mIn[24], line 3\u001b[0m\n\u001b[0;32m      1\u001b[0m ham \u001b[39m=\u001b[39m hamiltonian(\u001b[39m1\u001b[39m, \u001b[39m50\u001b[39m, \u001b[39m0\u001b[39m, \u001b[39m0.5\u001b[39m)\n\u001b[1;32m----> 3\u001b[0m eigenvalues, eigenvectors \u001b[39m=\u001b[39m sc\u001b[39m.\u001b[39;49msparse\u001b[39m.\u001b[39;49mlinalg\u001b[39m.\u001b[39;49meigsh(ham, k\u001b[39m=\u001b[39;49m\u001b[39m7\u001b[39;49m, which \u001b[39m=\u001b[39;49m \u001b[39m\"\u001b[39;49m\u001b[39mSA\u001b[39;49m\u001b[39m\"\u001b[39;49m) \n\u001b[0;32m      5\u001b[0m \u001b[39mfor\u001b[39;00m i \u001b[39min\u001b[39;00m \u001b[39mrange\u001b[39m(\u001b[39m7\u001b[39m):\n\u001b[0;32m      6\u001b[0m     \u001b[39mprint\u001b[39m(eigenvalues[i])\n",
      "File \u001b[1;32mc:\\Users\\marku\\anaconda3\\lib\\site-packages\\scipy\\sparse\\linalg\\_eigen\\arpack\\arpack.py:1564\u001b[0m, in \u001b[0;36meigsh\u001b[1;34m(A, k, M, sigma, which, v0, ncv, maxiter, tol, return_eigenvectors, Minv, OPinv, mode)\u001b[0m\n\u001b[0;32m   1360\u001b[0m \u001b[39m\u001b[39m\u001b[39m\"\"\"\u001b[39;00m\n\u001b[0;32m   1361\u001b[0m \u001b[39mFind k eigenvalues and eigenvectors of the real symmetric square matrix\u001b[39;00m\n\u001b[0;32m   1362\u001b[0m \u001b[39mor complex Hermitian matrix A.\u001b[39;00m\n\u001b[1;32m   (...)\u001b[0m\n\u001b[0;32m   1561\u001b[0m \n\u001b[0;32m   1562\u001b[0m \u001b[39m\"\"\"\u001b[39;00m\n\u001b[0;32m   1563\u001b[0m \u001b[39m# complex Hermitian matrices should be solved with eigs\u001b[39;00m\n\u001b[1;32m-> 1564\u001b[0m \u001b[39mif\u001b[39;00m np\u001b[39m.\u001b[39missubdtype(A\u001b[39m.\u001b[39;49mdtype, np\u001b[39m.\u001b[39mcomplexfloating):\n\u001b[0;32m   1565\u001b[0m     \u001b[39mif\u001b[39;00m mode \u001b[39m!=\u001b[39m \u001b[39m'\u001b[39m\u001b[39mnormal\u001b[39m\u001b[39m'\u001b[39m:\n\u001b[0;32m   1566\u001b[0m         \u001b[39mraise\u001b[39;00m \u001b[39mValueError\u001b[39;00m(\u001b[39m\"\u001b[39m\u001b[39mmode=\u001b[39m\u001b[39m%s\u001b[39;00m\u001b[39m cannot be used with \u001b[39m\u001b[39m\"\u001b[39m\n\u001b[0;32m   1567\u001b[0m                          \u001b[39m\"\u001b[39m\u001b[39mcomplex matrix A\u001b[39m\u001b[39m\"\u001b[39m \u001b[39m%\u001b[39m mode)\n",
      "\u001b[1;31mAttributeError\u001b[0m: 'tuple' object has no attribute 'dtype'"
     ]
    }
   ],
   "source": [
    "ham = hamiltonian(1, 50, 0, 0.5)\n",
    "\n",
    "eigenvalues, eigenvectors = sc.sparse.linalg.eigsh(ham, k=7, which = \"SA\") \n",
    "\n",
    "for i in range(7):\n",
    "    print(eigenvalues[i])"
   ]
  },
  {
   "cell_type": "code",
   "execution_count": null,
   "metadata": {},
   "outputs": [],
   "source": []
  }
 ],
 "metadata": {
  "kernelspec": {
   "display_name": "base",
   "language": "python",
   "name": "python3"
  },
  "language_info": {
   "codemirror_mode": {
    "name": "ipython",
    "version": 3
   },
   "file_extension": ".py",
   "mimetype": "text/x-python",
   "name": "python",
   "nbconvert_exporter": "python",
   "pygments_lexer": "ipython3",
   "version": "3.9.16"
  },
  "orig_nbformat": 4
 },
 "nbformat": 4,
 "nbformat_minor": 2
}
