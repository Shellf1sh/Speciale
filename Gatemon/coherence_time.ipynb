{
 "cells": [
  {
   "cell_type": "code",
   "execution_count": 1,
   "metadata": {},
   "outputs": [],
   "source": [
    "import numpy as np\n",
    "import matplotlib.pyplot as plt\n",
    "import scipy as sc\n",
    "\n",
    "import Qubits\n",
    "\n",
    "EC = 0.04\n",
    "EJ = 10\n",
    "T = 0.01\n",
    "ng = 0"
   ]
  },
  {
   "cell_type": "code",
   "execution_count": 2,
   "metadata": {},
   "outputs": [
    {
     "name": "stdout",
     "output_type": "stream",
     "text": [
      "Charge matrix element: 0.2796437158192505\n",
      "Phi matrix element: 0.08343335271674272\n",
      "Qubit energies: -9.115688548244199 and -7.367785487915755\n",
      "Qubit frequency: 1.7479030603284436\n",
      "[2.51308743e+00 5.25883125e-01 7.48580171e+02]\n",
      "[3.97916916e+05 1.90156321e+06 1.33586226e+03]\n",
      "1330.4610601139948\n"
     ]
    }
   ],
   "source": [
    "transmonC = Qubits.transmon_charge(20, EC, EJ, ng)#Values given in Ghz*hbar\n",
    "\n",
    "transmonC.solve()\n",
    "\n",
    "gamma_arr = transmonC.T_1_gamma()\n",
    "print(gamma_arr)\n",
    "\n",
    "print(1/gamma_arr*1e6)\n",
    "\n",
    "\n",
    "print(1/np.sum(gamma_arr)*1e6)"
   ]
  },
  {
   "cell_type": "code",
   "execution_count": 3,
   "metadata": {},
   "outputs": [
    {
     "name": "stdout",
     "output_type": "stream",
     "text": [
      "Charge matrix element: 0.2804534994734415\n",
      "Phi matrix element: 0.08377092279477034\n",
      "Qubit energies: -9.111596438479497 and -7.356274847647667\n",
      "Qubit frequency: 1.75532159083183\n",
      "[2.50971292e+00 5.29644401e-01 7.52556414e+02]\n",
      "[3.98451948e-01 1.88805923e+00 1.32880404e-03]\n",
      "1323.4589676815426\n"
     ]
    }
   ],
   "source": [
    "transmonF = Qubits.transmon_flux(200, EC, EJ, ng)#Values given in Ghz*hbar\n",
    "\n",
    "transmonF.solve()\n",
    "\n",
    "gamma_arr_flux = transmonF.T_1_gamma()\n",
    "print(gamma_arr_flux)\n",
    "\n",
    "print(1/gamma_arr_flux)\n",
    "print(1/np.sum(gamma_arr_flux)*1e6)"
   ]
  },
  {
   "cell_type": "code",
   "execution_count": 4,
   "metadata": {},
   "outputs": [
    {
     "name": "stdout",
     "output_type": "stream",
     "text": [
      "Charge matrix element: 0.1889400767225995\n",
      "Phi matrix element: 0.44161577007782704\n",
      "Qubit energies: -9.939836509679889 and -9.812422769895436\n",
      "Qubit frequency: 0.12741373978445303\n",
      "[2.32931220e+01 2.59004422e-02 2.96172962e+03]\n",
      "[4.29311279e-02 3.86093795e+01 3.37640544e-04]\n",
      "335.0029163652316\n"
     ]
    }
   ],
   "source": [
    "gatemonF = Qubits.gatemon_flux(200, EC, EJ, T, ng)\n",
    "\n",
    "gatemonF.solve()\n",
    "\n",
    "gamma_gatemonF = gatemonF.T_1_gamma()\n",
    "\n",
    "print(gamma_gatemonF)\n",
    "\n",
    "print(1/gamma_gatemonF)\n",
    "print(1/np.sum(gamma_gatemonF)*1e6)"
   ]
  },
  {
   "cell_type": "code",
   "execution_count": 5,
   "metadata": {},
   "outputs": [
    {
     "name": "stdout",
     "output_type": "stream",
     "text": [
      "Charge matrix element: 0.019310962817451944\n",
      "Phi matrix element: 0.4423523464599894\n",
      "Qubit energies: -9.9400232699214 and -9.81247013409735\n",
      "Qubit frequency: 0.12755313582405137\n",
      "[2.37811397e+00 2.65009776e-03 2.96674785e+03]\n",
      "[4.20501293e-01 3.77344570e+02 3.37069428e-04]\n",
      "336.79915200960505\n"
     ]
    }
   ],
   "source": [
    "gatemonC = Qubits.gatemon_charge(200, EC, EJ, T, ng)\n",
    "\n",
    "gatemonC.solve()\n",
    "\n",
    "gamma_gatemonC = gatemonC.T_1_gamma()\n",
    "\n",
    "print(gamma_gatemonC)\n",
    "\n",
    "print(1/gamma_gatemonC)\n",
    "print(1/np.sum(gamma_gatemonC)*1e6)"
   ]
  }
 ],
 "metadata": {
  "kernelspec": {
   "display_name": "Python 3",
   "language": "python",
   "name": "python3"
  },
  "language_info": {
   "codemirror_mode": {
    "name": "ipython",
    "version": 3
   },
   "file_extension": ".py",
   "mimetype": "text/x-python",
   "name": "python",
   "nbconvert_exporter": "python",
   "pygments_lexer": "ipython3",
   "version": "3.11.0"
  },
  "orig_nbformat": 4
 },
 "nbformat": 4,
 "nbformat_minor": 2
}
