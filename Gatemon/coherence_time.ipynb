{
 "cells": [
  {
   "cell_type": "code",
   "execution_count": 1,
   "metadata": {},
   "outputs": [],
   "source": [
    "import numpy as np\n",
    "import matplotlib.pyplot as plt\n",
    "import scipy as sc\n",
    "\n",
    "import Qubits\n",
    "\n",
    "EC = 0.24\n",
    "EJ = 10\n",
    "T = 0.1\n",
    "ng = 0"
   ]
  },
  {
   "cell_type": "code",
   "execution_count": 2,
   "metadata": {},
   "outputs": [
    {
     "name": "stdout",
     "output_type": "stream",
     "text": [
      "Charge matrix element: 3.958842286929474\n",
      "Phi matrix element: 0.1828437737554734\n",
      "Qubit energies: -7.870907691820001 and -3.744641737875064\n",
      "Qubit frequency: 4.126265953944937\n",
      "[ 15.07061104  17.574875   396.33154481]\n",
      "[66354.31022351 56899.40897352  2523.14006567]\n",
      "2331.127142257869\n"
     ]
    }
   ],
   "source": [
    "transmonC = Qubits.transmon_charge(30, EC, EJ, ng)#Values given in Ghz*hbar\n",
    "\n",
    "transmonC.solve()\n",
    "\n",
    "gamma_arr = transmonC.T_1_gamma()\n",
    "print(gamma_arr)\n",
    "\n",
    "print(1/gamma_arr*1e6)\n",
    "\n",
    "\n",
    "print(1/np.sum(gamma_arr)*1e6)"
   ]
  },
  {
   "cell_type": "code",
   "execution_count": 3,
   "metadata": {},
   "outputs": [
    {
     "data": {
      "text/plain": [
       "3.8068227900255565"
      ]
     },
     "execution_count": 3,
     "metadata": {},
     "output_type": "execute_result"
    }
   ],
   "source": [
    "15.07061104/3.95884228692947"
   ]
  },
  {
   "cell_type": "code",
   "execution_count": 4,
   "metadata": {},
   "outputs": [
    {
     "name": "stdout",
     "output_type": "stream",
     "text": [
      "Charge matrix element: 3.983841409718074\n",
      "Phi matrix element: 0.23476298453635797\n",
      "Qubit energies: -7.851195569144888 and -3.690133178043594\n",
      "Qubit frequency: 4.161062391101295\n",
      "[ 15.03895608  17.83499931 511.40228693]\n",
      "[0.06649398 0.05606953 0.00195541]\n",
      "1837.3023149845899\n"
     ]
    }
   ],
   "source": [
    "transmonF = Qubits.transmon_flux(100, EC, EJ, ng)#Values given in Ghz*hbar\n",
    "\n",
    "transmonF.solve()\n",
    "\n",
    "gamma_arr_flux = transmonF.T_1_gamma()\n",
    "print(gamma_arr_flux)\n",
    "\n",
    "print(1/gamma_arr_flux)\n",
    "print(1/np.sum(gamma_arr_flux)*1e6)"
   ]
  },
  {
   "cell_type": "code",
   "execution_count": 5,
   "metadata": {},
   "outputs": [
    {
     "data": {
      "text/plain": [
       "1.9583892413683925"
      ]
     },
     "execution_count": 5,
     "metadata": {},
     "output_type": "execute_result"
    }
   ],
   "source": [
    "11.36176931/5.801588912968675"
   ]
  },
  {
   "cell_type": "code",
   "execution_count": 6,
   "metadata": {},
   "outputs": [
    {
     "name": "stdout",
     "output_type": "stream",
     "text": [
      "Charge matrix element: 0.7500526439697275\n",
      "Phi matrix element: 0.3154754024759674\n",
      "Qubit energies: -9.610077287398083 and -8.813597310655274\n",
      "Qubit frequency: 0.796479976742809\n",
      "[ 14.79233593   0.6427372  399.18226207]\n",
      "[0.06760258 1.55584584 0.00250512]\n",
      "2411.862493692725\n"
     ]
    }
   ],
   "source": [
    "gatemonF = Qubits.gatemon_flux(100, EC, EJ, T, ng)\n",
    "\n",
    "gatemonF.solve()\n",
    "\n",
    "gamma_gatemonF = gatemonF.T_1_gamma()\n",
    "\n",
    "print(gamma_gatemonF)\n",
    "\n",
    "print(1/gamma_gatemonF)\n",
    "print(1/np.sum(gamma_gatemonF)*1e6)"
   ]
  },
  {
   "cell_type": "code",
   "execution_count": 7,
   "metadata": {},
   "outputs": [
    {
     "name": "stdout",
     "output_type": "stream",
     "text": [
      "Charge matrix element: 0.16381114621241938\n",
      "Phi matrix element: 0.03899681646034193\n",
      "Qubit energies: -9.61336420636505 and -8.814955862227505\n",
      "Qubit frequency: 0.7984083441375454\n",
      "[ 3.22283639  0.14071336 49.36131295]\n",
      "[0.31028569 7.10664557 0.02025878]\n",
      "18966.38414365044\n"
     ]
    }
   ],
   "source": [
    "gatemonC = Qubits.gatemon_charge(40, EC, EJ, T, ng)\n",
    "\n",
    "gatemonC.solve()\n",
    "\n",
    "gamma_gatemonC = gatemonC.T_1_gamma()\n",
    "\n",
    "print(gamma_gatemonC)\n",
    "\n",
    "print(1/gamma_gatemonC)\n",
    "print(1/np.sum(gamma_gatemonC)*1e6)"
   ]
  }
 ],
 "metadata": {
  "kernelspec": {
   "display_name": "Python 3",
   "language": "python",
   "name": "python3"
  },
  "language_info": {
   "codemirror_mode": {
    "name": "ipython",
    "version": 3
   },
   "file_extension": ".py",
   "mimetype": "text/x-python",
   "name": "python",
   "nbconvert_exporter": "python",
   "pygments_lexer": "ipython3",
   "version": "3.11.0"
  },
  "orig_nbformat": 4
 },
 "nbformat": 4,
 "nbformat_minor": 2
}
